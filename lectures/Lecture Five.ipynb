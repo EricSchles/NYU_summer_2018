{
 "cells": [
  {
   "cell_type": "markdown",
   "metadata": {},
   "source": [
    "# Introduction to Classes\n",
    "\n",
    "Now that we know some interesting algorithms it's time to better understand how to organize our code.  Simultaneously we'll also make clear the formal notion of an object.\n",
    "\n",
    "## Outline\n",
    "\n",
    "* Classes\n",
    "    * `__init__`\n",
    "    * self\n",
    "    * methods\n",
    "    * variables\n",
    "    * instantiation\n",
    "* Integer class\n",
    "* Floating Point class\n",
    "* Inheretance\n",
    "* Data Structures\n",
    "    * Linked List\n",
    "    * Doubly Linked Lists\n",
    "    * Stacks\n",
    "    * Queues\n",
    "* Composition\n",
    "* Conventions and rules of thumb\n",
    "\n",
    "    \n",
    "## Classes\n",
    "\n",
    "A class is how you create your own objects in Python (and most programming languages).  The syntax can be a bit hard to get used to, but with classes you open up a whole new world of best practice and flexibility in your code.\n",
    "\n",
    "Truly, object oriented programming, which is what you get with classes, opens you up to larger more powerful, more flexible code.  If you write your code well "
   ]
  },
  {
   "cell_type": "code",
   "execution_count": 14,
   "metadata": {},
   "outputs": [
    {
     "data": {
      "text/plain": [
       "5"
      ]
     },
     "execution_count": 14,
     "metadata": {},
     "output_type": "execute_result"
    }
   ],
   "source": [
    "def func(x):\n",
    "    return x\n",
    "\n",
    "func(5)"
   ]
  },
  {
   "cell_type": "code",
   "execution_count": 2,
   "metadata": {},
   "outputs": [
    {
     "name": "stdout",
     "output_type": "stream",
     "text": [
      "5\n",
      "15\n",
      "20\n",
      "30\n",
      "75\n"
     ]
    }
   ],
   "source": [
    "class A:\n",
    "    def __init__(self, x):\n",
    "        self.x = x\n",
    "        \n",
    "    def add(self, y):\n",
    "        self.x += y\n",
    "    \n",
    "a = A(5)\n",
    "print(a.x)\n",
    "a.add(10)\n",
    "print(a.x)\n",
    "a.x = 20\n",
    "print(a.x)\n",
    "a.add(10)\n",
    "print(a.x)\n",
    "a.add(45)\n",
    "print(a.x)"
   ]
  },
  {
   "cell_type": "code",
   "execution_count": 30,
   "metadata": {},
   "outputs": [
    {
     "data": {
      "text/plain": [
       "(0.0026707000732421873, 0.0004660432313765959)"
      ]
     },
     "execution_count": 30,
     "metadata": {},
     "output_type": "execute_result"
    }
   ],
   "source": [
    "import time\n",
    "import statistics as st\n",
    "class A:\n",
    "    def __init__(self, x):\n",
    "        self.x = x\n",
    "        \n",
    "    def add(self, y):\n",
    "        self.x += y\n",
    "\n",
    "experiments = []\n",
    "for _ in range(1000):\n",
    "    start = time.time()\n",
    "    a = A(0)\n",
    "    for i in range(10000):\n",
    "        a.add(i)\n",
    "    a.x\n",
    "    experiments.append(time.time() - start)\n",
    "st.mean(experiments), st.stdev(experiments)"
   ]
  },
  {
   "cell_type": "code",
   "execution_count": 31,
   "metadata": {},
   "outputs": [
    {
     "data": {
      "text/plain": [
       "(0.0017991812229156494, 0.00045789021798475695)"
      ]
     },
     "execution_count": 31,
     "metadata": {},
     "output_type": "execute_result"
    }
   ],
   "source": [
    "import time\n",
    "def add(x, y):\n",
    "    return x + y\n",
    "\n",
    "experiments = []\n",
    "for _ in range(1000):\n",
    "    start = time.time()\n",
    "    x = 0\n",
    "    for i in range(10000):\n",
    "        x = add(x, i)\n",
    "    x\n",
    "    experiments.append(time.time() - start)\n",
    "st.mean(experiments), st.stdev(experiments)"
   ]
  },
  {
   "cell_type": "code",
   "execution_count": 1,
   "metadata": {},
   "outputs": [
    {
     "name": "stdout",
     "output_type": "stream",
     "text": [
      "5\n",
      "15\n",
      "20\n",
      "30\n"
     ]
    }
   ],
   "source": [
    "class A:\n",
    "    def __init__(self, x):\n",
    "        self.x = x\n",
    "        \n",
    "    def add(self, y):\n",
    "        self.x += y\n",
    "    \n",
    "b = A(5)\n",
    "print(b.x)\n",
    "b.add(10)\n",
    "print(b.x)\n",
    "b.x = 20\n",
    "print(b.x)\n",
    "b.add(10)\n",
    "print(b.x)"
   ]
  },
  {
   "cell_type": "markdown",
   "metadata": {},
   "source": [
    "The general syntax of a class is\n",
    "\n",
    "```\n",
    "class [Class Name]:\n",
    "....def __init__(self, [PARAMETER 1], ...[PARAMETER N]):\n",
    "........self.[PARAMETER 1] = [PARAMETER 1]\n",
    "...\n",
    "........self.[PARAMETER N] = [PARAMETER N]\n",
    "\n",
    "....def [Method Name](self, [PARAMETER 1], ...[PARAMETER N]):\n",
    "........indented code goes here\n",
    "...\n",
    "........return (optionally)\n",
    "```\n",
    "\n",
    "As you can see all class functions, called methods require the first position to be something called `self`.  The `self` keyword gets replaced at instantiation time with the instatiated class name.  In our above example it is `a`.\n",
    "\n",
    "So, `self` can be thought of as a placeholder for whatever name we decide to give our instatiated class.  This allows us to treat a class kind of like a template for other code that is intended to run.\n",
    "\n",
    "Being a little bit rigirous here, a class is defined as a collection of data and functions (known as methods), that can interact with each other, but may not be able to interact with the larger code base.\n",
    "\n",
    "More or less, classes are another way of seperating (at least in principle) what your code can augment as well as the code of others.  In a way, classes are kind of like another level of scoping rules, the same way we had local scope and global scope.  Now we also have code that runs inside our classes and outside our classes.\n",
    "\n",
    "In the class above and in all classes, there is a special method called a constructor.  In Python it is denoted by the name `__init__` and it is what tells Python how to instiate the Python object.\n",
    "\n",
    "When in the above code we called `a = A(5)` we were calling the `__init__` method we defined in the class above.\n",
    "\n",
    "Additionally, notice that we can interact directly with the variables associated with our class, simply by accessing the variable via `.` - this is refered to as dot notation and is extremely flexible.\n",
    "\n",
    "With dot notation we need not concern ourselves with being nearly as original.  Say you want two functions called add that mean two completely different things, depending on context.  Now you can freely define those two different add methods!  Just define them in two seperate classes.\n",
    "\n",
    "At an intuitive level, classes are really just about creating context for the code you write.  Which is an imperative for longer form programs, spanning many many lines."
   ]
  },
  {
   "cell_type": "markdown",
   "metadata": {},
   "source": [
    "## Our first Useful Classes\n",
    "\n",
    "Now that we know how to write classes let's write our first useful classes!"
   ]
  },
  {
   "cell_type": "code",
   "execution_count": 8,
   "metadata": {},
   "outputs": [
    {
     "name": "stdout",
     "output_type": "stream",
     "text": [
      "30\n",
      "200\n",
      "-10\n",
      "0\n"
     ]
    }
   ],
   "source": [
    "class Integer:\n",
    "    def __init__(self, x):\n",
    "        self.x = x\n",
    "    \n",
    "    def __str__(self):\n",
    "        return repr(self.x)\n",
    "    \n",
    "    def add(self, other):\n",
    "        return self.x + other.x\n",
    "    \n",
    "    def multiply(self, other):\n",
    "        return self.x * other.x\n",
    "    \n",
    "    def subtract(self, other):\n",
    "        return self.x - other.x\n",
    "    \n",
    "    def divide(self, other):\n",
    "        return self.x // other.x\n",
    "    \n",
    "    def inspect(self):\n",
    "        return self.x\n",
    "    \n",
    "    \n",
    "first = Integer(10)\n",
    "second = Integer(20)\n",
    "\n",
    "print(Integer(first.add(second)))\n",
    "print(Integer(first.multiply(second)))\n",
    "print(Integer(first.subtract(second)))\n",
    "print(Integer(first.divide(second)))"
   ]
  },
  {
   "cell_type": "code",
   "execution_count": 9,
   "metadata": {},
   "outputs": [
    {
     "name": "stdout",
     "output_type": "stream",
     "text": [
      "31.2\n",
      "217.35\n",
      "-10.2\n",
      "0.0\n"
     ]
    },
    {
     "data": {
      "text/plain": [
       "10.5"
      ]
     },
     "execution_count": 9,
     "metadata": {},
     "output_type": "execute_result"
    }
   ],
   "source": [
    "class Float(Integer):\n",
    "    pass\n",
    "\n",
    "first = Float(10.5)\n",
    "second = Float(20.7)\n",
    "\n",
    "print(first.add(second))\n",
    "print(first.multiply(second))\n",
    "print(first.subtract(second))\n",
    "print(first.divide(second))\n",
    "first.inspect()"
   ]
  },
  {
   "cell_type": "markdown",
   "metadata": {},
   "source": [
    "It turns out that because Integers and Floating Point numbers have all the same operations associated, we don't need to rewrite anything for the new class!  _This_ is the power of classes - you can write less code.\n",
    "\n",
    "So how did I do this magical feat?!  I used something called inheritance.  Let's look at the syntax:\n",
    "\n",
    "\n",
    "```\n",
    "class [Class Name]([Base Class Name]):\n",
    "...\n",
    "```\n",
    "\n",
    "All we really need to do is \"pass\" the base class to the new class and we have access to _all_ the methods and data of the base class.  Since integers and floating point numbers are _basically_ the same thing, we don't need to add any methods.\n",
    "\n",
    "But we can do more than that!  Let's look at another `Float` class that adds a few more methods!"
   ]
  },
  {
   "cell_type": "code",
   "execution_count": 10,
   "metadata": {},
   "outputs": [
    {
     "data": {
      "text/plain": [
       "0.5"
      ]
     },
     "execution_count": 10,
     "metadata": {},
     "output_type": "execute_result"
    }
   ],
   "source": [
    "x = 10.5\n",
    "x - int(x)"
   ]
  },
  {
   "cell_type": "code",
   "execution_count": 5,
   "metadata": {},
   "outputs": [
    {
     "name": "stdout",
     "output_type": "stream",
     "text": [
      "31.2\n",
      "217.35\n",
      "-10.2\n",
      "0.0\n",
      "\n",
      "Decompose Floats into before and after the decimal:\n",
      "10\n",
      "0.5\n",
      "20\n",
      "0.6999999999999993\n"
     ]
    }
   ],
   "source": [
    "class Float(Integer):\n",
    "    def get_characteristic(self):\n",
    "        return int(self.x)\n",
    "    \n",
    "    def get_mantissa(self):\n",
    "        return self.x - self.get_characteristic()\n",
    "    \n",
    "first = Float(10.5)\n",
    "second = Float(20.7)\n",
    "\n",
    "print(first.add(second))\n",
    "print(first.multiply(second))\n",
    "print(first.subtract(second))\n",
    "print(first.divide(second))\n",
    "\n",
    "print()\n",
    "print(\"Decompose Floats into before and after the decimal:\")\n",
    "print(first.get_characteristic())\n",
    "print(first.get_mantissa())\n",
    "print(second.get_characteristic())\n",
    "print(second.get_mantissa())"
   ]
  },
  {
   "cell_type": "markdown",
   "metadata": {},
   "source": [
    "Notice that now we have added a few methods to our floating point class that wouldn't make sense for integer classes.  These methods are specific to the class of interest!\n",
    "\n",
    "This is the main motivation behind class inheritance - to not recreate work but implement whatever you need.  However there is one case we haven't talked about yet - what if we need to redefine a method in the class inherting from the base class?  What do we do then?"
   ]
  },
  {
   "cell_type": "code",
   "execution_count": 13,
   "metadata": {},
   "outputs": [
    {
     "name": "stdout",
     "output_type": "stream",
     "text": [
      "31.2\n",
      "217.35\n",
      "-10.2\n",
      "0.5072463768115942\n",
      "\n",
      "Decompose Floats into before and after the decimal:\n",
      "10\n",
      "0.5\n",
      "20\n",
      "0.6999999999999993\n"
     ]
    },
    {
     "data": {
      "text/plain": [
       "True"
      ]
     },
     "execution_count": 13,
     "metadata": {},
     "output_type": "execute_result"
    }
   ],
   "source": [
    "class Float(Integer):\n",
    "    \n",
    "    def get_characteristic(self):\n",
    "        return int(self.x)\n",
    "    \n",
    "    def get_mantissa(self):\n",
    "        return self.x - self.get_characteristic()\n",
    "    \n",
    "    def divide(self, other):\n",
    "        return self.x / other.x\n",
    "    \n",
    "    def inspect(self, x):\n",
    "        return self.x == x\n",
    "    \n",
    "first = Float(10.5)\n",
    "second = Float(20.7)\n",
    "\n",
    "print(first.add(second))\n",
    "print(first.multiply(second))\n",
    "print(first.subtract(second))\n",
    "print(first.divide(second))\n",
    "\n",
    "print()\n",
    "print(\"Decompose Floats into before and after the decimal:\")\n",
    "print(first.get_characteristic())\n",
    "print(first.get_mantissa())\n",
    "print(second.get_characteristic())\n",
    "print(second.get_mantissa())\n",
    "first.inspect(10.5)"
   ]
  },
  {
   "cell_type": "markdown",
   "metadata": {},
   "source": [
    "The reason we had to do this, is because division is different for integers than it is for floating point numbers.  In integer division you can't have remainders.  So integer division automatically rounds of the remainder.  \n",
    "\n",
    "Notice - all we needed to do to change the method in class was write another method with the same _signature_.\n",
    "\n",
    "The signature is the `def [FUNCTION NAME]([PARAMETER 1], ..., [PARAMETER N]):` part of the function or method.\n",
    "\n",
    "Now that we have some of the definitions and main themes in place, let's do something we absolutely couldn't have done before - Write our _own_ data structure."
   ]
  },
  {
   "cell_type": "code",
   "execution_count": 32,
   "metadata": {},
   "outputs": [
    {
     "data": {
      "text/plain": [
       "[1, 2]"
      ]
     },
     "execution_count": 32,
     "metadata": {},
     "output_type": "execute_result"
    }
   ],
   "source": [
    "listing = []\n",
    "\n",
    "listing.append(1)\n",
    "listing.append(2)\n",
    "\n",
    "listing"
   ]
  },
  {
   "cell_type": "code",
   "execution_count": 3,
   "metadata": {},
   "outputs": [
    {
     "name": "stdout",
     "output_type": "stream",
     "text": [
      "9\n",
      "8\n",
      "7\n",
      "6\n",
      "5\n",
      "4\n",
      "3\n",
      "2\n",
      "1\n",
      "0\n",
      "None\n"
     ]
    }
   ],
   "source": [
    "class Node:\n",
    "    def __init__(self, data, next):\n",
    "        self.data = data\n",
    "        self.next = next\n",
    "        \n",
    "    def __str__(self):\n",
    "        return repr(self.data)\n",
    "\n",
    "    \n",
    "class Node:\n",
    "    def __init__(self, data, next):\n",
    "        self.data = data\n",
    "        self.next = next\n",
    "        \n",
    "    def __str__(self):\n",
    "        return repr(self.data)\n",
    "\n",
    "    \n",
    "class LinkedList:\n",
    "    def __init__(self):\n",
    "        self.head = None\n",
    "    \n",
    "    def append(self, data):\n",
    "        if self.head is None:\n",
    "            self.head = Node(data, None)\n",
    "        else:\n",
    "            cur = self.head\n",
    "            while cur.next:\n",
    "                cur = cur.next\n",
    "            cur.next = Node(data, None)\n",
    "    \n",
    "    def pop(self):\n",
    "        if self.head is None:\n",
    "            return None\n",
    "        elif self.head.next is None:\n",
    "            data = self.head\n",
    "            self.head = None\n",
    "            return data\n",
    "        else:\n",
    "            cur = self.head\n",
    "            prev = cur\n",
    "            cur = cur.next\n",
    "            while cur.next:\n",
    "                cur = cur.next\n",
    "                prev = prev.next\n",
    "            data = cur.data\n",
    "            prev.next = None\n",
    "            return data\n",
    "        \n",
    "    \n",
    "linked_list = LinkedList()\n",
    "for i in range(10):\n",
    "    linked_list.append(i)\n",
    "\n",
    "elem_exists = True\n",
    "while elem_exists:\n",
    "   cur = linked_list.pop()\n",
    "   print(cur)\n",
    "   if cur is None:\n",
    "       elem_exists = False"
   ]
  },
  {
   "cell_type": "markdown",
   "metadata": {},
   "source": [
    "A linked list, as we've defined above is a way of defining a list programmatically.  It leverages something called a pointer, which is used to join together the elements of the list dynamically in memory.\n",
    "\n",
    "Now that we've defined our first data structure, let's see if we can make it a little more sophisticated by adding elements both to the front and end of the list.\n",
    "\n",
    "For this we'll need a doubly linked list."
   ]
  },
  {
   "cell_type": "code",
   "execution_count": 33,
   "metadata": {},
   "outputs": [
    {
     "name": "stdout",
     "output_type": "stream",
     "text": [
      "9\n",
      "8\n",
      "7\n",
      "6\n",
      "5\n",
      "4\n",
      "3\n",
      "2\n",
      "1\n",
      "0\n",
      "20\n",
      "19\n",
      "18\n",
      "17\n",
      "16\n",
      "15\n",
      "14\n",
      "13\n",
      "12\n",
      "11\n",
      "None\n"
     ]
    }
   ],
   "source": [
    "class Node:\n",
    "    def __init__(self, data, next, prev):\n",
    "        self.data = data\n",
    "        self.next = next\n",
    "        self.prev = prev\n",
    "        \n",
    "    def __str__(self):\n",
    "        return repr(self.data)\n",
    "    \n",
    "class DoublyLinkedList:\n",
    "    def __init__(self):\n",
    "        self.head = None\n",
    "        self.tail = None\n",
    "        \n",
    "    def append(self, data):\n",
    "        if self.head is None:\n",
    "            self.head = Node(data, None, None)\n",
    "            self.tail = self.head\n",
    "        else:\n",
    "            cur = self.head\n",
    "            while cur.next:\n",
    "                cur = cur.next\n",
    "            new_node = Node(data, None, cur)\n",
    "            cur.next = new_node\n",
    "            \n",
    "    def prepend(self, data):\n",
    "        if self.head is None:\n",
    "            self.head = Node(data, None, None)\n",
    "            self.tail = self.head\n",
    "        else:\n",
    "            cur_head = self.head\n",
    "            self.head = Node(data, cur_head, None)\n",
    "            cur_head.prev = self.head\n",
    "    \n",
    "    def pop(self):\n",
    "        if self.head is None:\n",
    "            return None\n",
    "        elif self.head.next is None:\n",
    "            data = self.head\n",
    "            self.head = None\n",
    "            return data\n",
    "        else:\n",
    "            cur = self.head\n",
    "            while cur.next:\n",
    "                cur = cur.next\n",
    "            data = cur.data\n",
    "            prev = cur.prev\n",
    "            prev.next = None\n",
    "            return data\n",
    "        \n",
    "    \n",
    "linked_list = DoublyLinkedList()\n",
    "for i in range(10):\n",
    "    linked_list.append(i)\n",
    "\n",
    "for i in range(20, 10, -1):\n",
    "    linked_list.prepend(i)\n",
    "    \n",
    "elem_exists = True\n",
    "while elem_exists:\n",
    "   cur = linked_list.pop()\n",
    "   print(cur)\n",
    "   if cur is None:\n",
    "       elem_exists = False"
   ]
  },
  {
   "cell_type": "markdown",
   "metadata": {},
   "source": [
    "Now that we can both prepend and append elements to our linked list with our `DoublyLinkedList` we are ready to implement Stacks and Queues!\n",
    "\n",
    "Stacks only let us add to and remove from the top of a list and Queues only let us add to the front of a list a remove from the end.\n",
    "\n",
    "While not immediately useful, we will see the power of these two data structures in a later lecture.  Without further ado here are the implementations!"
   ]
  },
  {
   "cell_type": "code",
   "execution_count": 34,
   "metadata": {},
   "outputs": [
    {
     "name": "stdout",
     "output_type": "stream",
     "text": [
      "How stacks work:\n",
      "9\n",
      "8\n",
      "7\n",
      "6\n",
      "5\n",
      "4\n",
      "3\n",
      "2\n",
      "1\n",
      "0\n",
      "\n",
      "How queues work:\n",
      "0\n",
      "1\n",
      "2\n",
      "3\n",
      "4\n",
      "5\n",
      "6\n",
      "7\n",
      "8\n",
      "9\n"
     ]
    }
   ],
   "source": [
    "class Node:\n",
    "    def __init__(self, data, next, prev):\n",
    "        self.data = data\n",
    "        self.next = next\n",
    "        self.prev = prev\n",
    "        \n",
    "    def __str__(self):\n",
    "        return repr(self.data)\n",
    "    \n",
    "class DoublyLinkedList:\n",
    "    def __init__(self):\n",
    "        self.head = None\n",
    "        self.tail = None\n",
    "        \n",
    "    def append(self, data):\n",
    "        if self.head is None:\n",
    "            self.head = Node(data, None, None)\n",
    "            self.tail = self.head\n",
    "        else:\n",
    "            cur = self.head\n",
    "            while cur.next:\n",
    "                cur = cur.next\n",
    "            new_node = Node(data, None, cur)\n",
    "            cur.next = new_node\n",
    "            \n",
    "    def prepend(self, data):\n",
    "        if self.head is None:\n",
    "            self.head = Node(data, None, None)\n",
    "            self.tail = self.head\n",
    "        else:\n",
    "            cur_head = self.head\n",
    "            self.head = Node(data, cur_head, None)\n",
    "            cur_head.prev = self.head\n",
    "    \n",
    "    def pop_back(self):\n",
    "        if self.head is None:\n",
    "            return None\n",
    "        elif self.head.next is None:\n",
    "            data = self.head\n",
    "            self.head = None\n",
    "            return data\n",
    "        else:\n",
    "            cur = self.head\n",
    "            while cur.next:\n",
    "                cur = cur.next\n",
    "            data = cur.data\n",
    "            prev = cur.prev\n",
    "            prev.next = None\n",
    "            return data\n",
    "        \n",
    "    def pop_front(self):\n",
    "        if self.head is None:\n",
    "            return None\n",
    "        elif self.head.next:\n",
    "            data = self.head.data\n",
    "            cur_head = self.head\n",
    "            self.head = self.head.next\n",
    "            self.head.prev = None\n",
    "            cur_head.next = None\n",
    "            cur_head.prev = None\n",
    "            cur_head = None\n",
    "            return data\n",
    "        else:\n",
    "            data = self.head.data\n",
    "            self.head = None\n",
    "            return data\n",
    "        \n",
    "        \n",
    "class Stack:\n",
    "    def __init__(self):\n",
    "        self._linked_list = DoublyLinkedList()\n",
    "    \n",
    "    def push(self, data):\n",
    "        self._linked_list.prepend(data)\n",
    "        \n",
    "    def pop(self):\n",
    "        return self._linked_list.pop_front()\n",
    "            \n",
    "        \n",
    "class Queue:\n",
    "    def __init__(self):\n",
    "        self._linked_list = DoublyLinkedList()\n",
    "        \n",
    "    def push(self, data):\n",
    "        self._linked_list.prepend(data)\n",
    "        \n",
    "    def pop(self):\n",
    "        return self._linked_list.pop_back()\n",
    "    \n",
    "stack = Stack()\n",
    "print(\"How stacks work:\")\n",
    "for i in range(10):\n",
    "    stack.push(i)\n",
    "for i in range(10):\n",
    "    print(stack.pop())\n",
    "print()\n",
    "queue = Queue()\n",
    "print(\"How queues work:\")\n",
    "for i in range(10):\n",
    "    queue.push(i)\n",
    "for i in range(10):\n",
    "    print(queue.pop())"
   ]
  },
  {
   "cell_type": "markdown",
   "metadata": {},
   "source": [
    "The last two data structures we made used a technique called composition -\n",
    "\n",
    "Composition is when you instatiate another object as part of your class and wrap some of it's methods.  Notice that can only have one layer of abstraction with composition.  However what would stop us from doing the following with inheritance:"
   ]
  },
  {
   "cell_type": "code",
   "execution_count": 37,
   "metadata": {},
   "outputs": [
    {
     "name": "stdout",
     "output_type": "stream",
     "text": [
      "C called on E: -5\n",
      "E called on C: 2.0\n"
     ]
    }
   ],
   "source": [
    "class A:\n",
    "    def __init__(self, x):\n",
    "        self.x = x\n",
    "        \n",
    "    def func(self, other):\n",
    "        return self.x + other.x\n",
    "    \n",
    "class B(A):\n",
    "    def func(self, other):\n",
    "        return self.x * other.x\n",
    "    \n",
    "class C(B):\n",
    "    def func(self, other):\n",
    "        return self.x / other.x\n",
    "    \n",
    "class D(C):\n",
    "    def func(self, other):\n",
    "        return self.x // other.x\n",
    "    \n",
    "class E(D):\n",
    "    def func(self, other):\n",
    "        return self.x - other.x\n",
    "    \n",
    "e = E(5)\n",
    "c = C(10)\n",
    "\n",
    "print(\"C called on E:\", e.func(c))\n",
    "print(\"E called on C:\", c.func(e))"
   ]
  },
  {
   "cell_type": "markdown",
   "metadata": {},
   "source": [
    "This is possibly the worst thing you could do in code.  In the above example it is _very_ clear this is a dumb idea because I put these classes next to each other.  But what would happen if these classes were across a 50 million line code base?  And what if it wasn't a single method but multiple methods being overwritten for reasons that were totally unclear?  \n",
    "\n",
    "Would you be able to tell me why object c and e interact the way they do?  Probably not.  Especially if this code was more complex.\n",
    "\n",
    "So this leads us to a general rule of thumb - deep inheritance structures are a _terrible_ idea.  And if you do them at your job, stop.  If anyone tells you they are a good idea, they are wrong, end of story.  There is never and will never be a reason to have deep inheritance structures.  Don't do it.\n",
    "\n",
    "This is one of the strengths of composition over inheritance - You cannot have deeply nested structures, meaning it will always be clear where you are getting your wrapped objects from.\n",
    "\n",
    "The downside is you have to write more code, explicitly wrapping each method you want, rather implicitly passing the methods you want.  But composition gives you far more control over your code - you get to explicitly say what you want rather than having to implicitly allow what you want.\n",
    "\n",
    "This is a general tenant of good code in Python:\n",
    "\n",
    "Explicit is _always_ better than implicit."
   ]
  },
  {
   "cell_type": "code",
   "execution_count": null,
   "metadata": {},
   "outputs": [],
   "source": []
  }
 ],
 "metadata": {
  "kernelspec": {
   "display_name": "Python 3",
   "language": "python",
   "name": "python3"
  },
  "language_info": {
   "codemirror_mode": {
    "name": "ipython",
    "version": 3
   },
   "file_extension": ".py",
   "mimetype": "text/x-python",
   "name": "python",
   "nbconvert_exporter": "python",
   "pygments_lexer": "ipython3",
   "version": "3.6.3"
  }
 },
 "nbformat": 4,
 "nbformat_minor": 2
}
