{
 "cells": [
  {
   "cell_type": "markdown",
   "metadata": {},
   "source": [
    "## Bringing things together - Application of what we've learned thus far\n",
    "\n",
    "In this lecture we'll explore some applications of what we've learned how to do so far.\n",
    "\n",
    "## Finding the zeros of equations\n",
    "\n",
    "In lecture one we looked at writing down some equations in Python.  Now we'll make use of this ability to \"find the zeros\" of those equations - the values of our parameters such that the function is equal to zero or a tuple of zeros, for multivariate equations.\n",
    "\n",
    "## Single variable equations\n",
    "\n",
    "First let's look at how to deal with this for equations of a single variable.  These equations will be of the form:\n",
    "\n",
    "`f(x) = a*x + b`\n",
    "\n",
    "Notice we'll only consider linear equations for now."
   ]
  },
  {
   "cell_type": "code",
   "execution_count": 6,
   "metadata": {},
   "outputs": [],
   "source": [
    "import matplotlib.pyplot as plt\n",
    "%matplotlib inline"
   ]
  },
  {
   "cell_type": "code",
   "execution_count": 9,
   "metadata": {},
   "outputs": [
    {
     "name": "stdout",
     "output_type": "stream",
     "text": [
      "The 'zero' for equation one is 0\n"
     ]
    }
   ],
   "source": [
    "def equation_one(x):\n",
    "    return x\n",
    "\n",
    "def find_zero_eq_one():\n",
    "    for i in range(-100, 100):\n",
    "        if equation_one(i) == 0:\n",
    "            return i\n",
    "        \n",
    "print(\"The 'zero' for equation one is\", find_zero_eq_one())"
   ]
  },
  {
   "cell_type": "markdown",
   "metadata": {},
   "source": [
    "In order to find the zero, we simply try a bunch of different numbers.  And if our condition of the zero being found ever happens to be right, we return.  This first example was of course trivial.  Let's see if we can make it more complex!"
   ]
  },
  {
   "cell_type": "code",
   "execution_count": 10,
   "metadata": {},
   "outputs": [
    {
     "name": "stdout",
     "output_type": "stream",
     "text": [
      "The 'zero' for equation two is -7\n"
     ]
    }
   ],
   "source": [
    "def equation_two(x):\n",
    "    return x + 7\n",
    "\n",
    "def find_zero_eq_two():\n",
    "    for i in range(-100, 100):\n",
    "        if equation_two(i) == 0:\n",
    "            return i\n",
    "        \n",
    "print(\"The 'zero' for equation two is\", find_zero_eq_two())"
   ]
  },
  {
   "cell_type": "markdown",
   "metadata": {},
   "source": [
    "For this slightly more complex equation things get a little more interesting!  Now we have a `x` that gives `f(x) = 0` that is not zero itself!  Let's see if this zero finding method will always hold up."
   ]
  },
  {
   "cell_type": "code",
   "execution_count": 1,
   "metadata": {},
   "outputs": [
    {
     "name": "stdout",
     "output_type": "stream",
     "text": [
      "The 'zero' for equation three is None\n"
     ]
    }
   ],
   "source": [
    "def equation_three(x):\n",
    "    return 5*x + 7\n",
    "\n",
    "def find_zero_eq_three():\n",
    "    for i in range(-100, 100):\n",
    "        if equation_three(i) == 0:\n",
    "            return i\n",
    "        \n",
    "print(\"The 'zero' for equation three is\", find_zero_eq_three())"
   ]
  },
  {
   "cell_type": "markdown",
   "metadata": {},
   "source": [
    "As you can see we fail to find the right solution to equation three.  Is that because our search method is fundamentally flawed?  In fact it is not!  The problem here is that we are 'skipping' over the solution.  Notice that our equation now has a coefficient on the x.  This means that the 'solution' will likely be a rational number, not a natural number.  Therefore we'll need to include the rational numbers in our search space.\n",
    "\n",
    "But how can we do that?  Let's see if the range function can be helpful here:"
   ]
  },
  {
   "cell_type": "code",
   "execution_count": 2,
   "metadata": {},
   "outputs": [
    {
     "name": "stdout",
     "output_type": "stream",
     "text": [
      "Help on class range in module builtins:\n",
      "\n",
      "class range(object)\n",
      " |  range(stop) -> range object\n",
      " |  range(start, stop[, step]) -> range object\n",
      " |  \n",
      " |  Return an object that produces a sequence of integers from start (inclusive)\n",
      " |  to stop (exclusive) by step.  range(i, j) produces i, i+1, i+2, ..., j-1.\n",
      " |  start defaults to 0, and stop is omitted!  range(4) produces 0, 1, 2, 3.\n",
      " |  These are exactly the valid indices for a list of 4 elements.\n",
      " |  When step is given, it specifies the increment (or decrement).\n",
      " |  \n",
      " |  Methods defined here:\n",
      " |  \n",
      " |  __bool__(self, /)\n",
      " |      self != 0\n",
      " |  \n",
      " |  __contains__(self, key, /)\n",
      " |      Return key in self.\n",
      " |  \n",
      " |  __eq__(self, value, /)\n",
      " |      Return self==value.\n",
      " |  \n",
      " |  __ge__(self, value, /)\n",
      " |      Return self>=value.\n",
      " |  \n",
      " |  __getattribute__(self, name, /)\n",
      " |      Return getattr(self, name).\n",
      " |  \n",
      " |  __getitem__(self, key, /)\n",
      " |      Return self[key].\n",
      " |  \n",
      " |  __gt__(self, value, /)\n",
      " |      Return self>value.\n",
      " |  \n",
      " |  __hash__(self, /)\n",
      " |      Return hash(self).\n",
      " |  \n",
      " |  __iter__(self, /)\n",
      " |      Implement iter(self).\n",
      " |  \n",
      " |  __le__(self, value, /)\n",
      " |      Return self<=value.\n",
      " |  \n",
      " |  __len__(self, /)\n",
      " |      Return len(self).\n",
      " |  \n",
      " |  __lt__(self, value, /)\n",
      " |      Return self<value.\n",
      " |  \n",
      " |  __ne__(self, value, /)\n",
      " |      Return self!=value.\n",
      " |  \n",
      " |  __new__(*args, **kwargs) from builtins.type\n",
      " |      Create and return a new object.  See help(type) for accurate signature.\n",
      " |  \n",
      " |  __reduce__(...)\n",
      " |      helper for pickle\n",
      " |  \n",
      " |  __repr__(self, /)\n",
      " |      Return repr(self).\n",
      " |  \n",
      " |  __reversed__(...)\n",
      " |      Return a reverse iterator.\n",
      " |  \n",
      " |  count(...)\n",
      " |      rangeobject.count(value) -> integer -- return number of occurrences of value\n",
      " |  \n",
      " |  index(...)\n",
      " |      rangeobject.index(value, [start, [stop]]) -> integer -- return index of value.\n",
      " |      Raise ValueError if the value is not present.\n",
      " |  \n",
      " |  ----------------------------------------------------------------------\n",
      " |  Data descriptors defined here:\n",
      " |  \n",
      " |  start\n",
      " |  \n",
      " |  step\n",
      " |  \n",
      " |  stop\n",
      "\n"
     ]
    }
   ],
   "source": [
    "help(range)"
   ]
  },
  {
   "cell_type": "code",
   "execution_count": 12,
   "metadata": {},
   "outputs": [
    {
     "ename": "TypeError",
     "evalue": "'float' object cannot be interpreted as an integer",
     "output_type": "error",
     "traceback": [
      "\u001b[0;31m---------------------------------------------------------------------------\u001b[0m",
      "\u001b[0;31mTypeError\u001b[0m                                 Traceback (most recent call last)",
      "\u001b[0;32m<ipython-input-12-0434b52b65a5>\u001b[0m in \u001b[0;36m<module>\u001b[0;34m()\u001b[0m\n\u001b[0;32m----> 1\u001b[0;31m \u001b[0;32mfor\u001b[0m \u001b[0mi\u001b[0m \u001b[0;32min\u001b[0m \u001b[0mrange\u001b[0m\u001b[0;34m(\u001b[0m\u001b[0;36m0\u001b[0m\u001b[0;34m,\u001b[0m\u001b[0;36m10\u001b[0m\u001b[0;34m,\u001b[0m\u001b[0;36m0.1\u001b[0m\u001b[0;34m)\u001b[0m\u001b[0;34m:\u001b[0m\u001b[0;34m\u001b[0m\u001b[0m\n\u001b[0m\u001b[1;32m      2\u001b[0m     \u001b[0mprint\u001b[0m\u001b[0;34m(\u001b[0m\u001b[0mi\u001b[0m\u001b[0;34m)\u001b[0m\u001b[0;34m\u001b[0m\u001b[0m\n",
      "\u001b[0;31mTypeError\u001b[0m: 'float' object cannot be interpreted as an integer"
     ]
    }
   ],
   "source": [
    "for i in range(0, 10, 0.1):\n",
    "    print(i)"
   ]
  },
  {
   "cell_type": "markdown",
   "metadata": {},
   "source": [
    "Oh no!  The range function only takes integer values for the step size!  Is there any recourse?!  \n",
    "\n",
    "It turns out we can make use of the range function we implemented last lecture to achieve the desired result!"
   ]
  },
  {
   "cell_type": "code",
   "execution_count": 3,
   "metadata": {},
   "outputs": [
    {
     "name": "stdout",
     "output_type": "stream",
     "text": [
      "The 'zero' for equation three is None\n"
     ]
    }
   ],
   "source": [
    "def arange(start, stop, step):\n",
    "    iterator = start\n",
    "    while iterator < stop:\n",
    "        yield iterator\n",
    "        iterator += step\n",
    "\n",
    "def equation_three(x):\n",
    "    return 5*x + 7\n",
    "\n",
    "def find_zero_eq_three():\n",
    "    for i in arange(-10, 10, 0.01):\n",
    "        if equation_three(i) == 0:\n",
    "            return i\n",
    "        \n",
    "print(\"The 'zero' for equation three is\", find_zero_eq_three())"
   ]
  },
  {
   "cell_type": "code",
   "execution_count": 3,
   "metadata": {},
   "outputs": [
    {
     "data": {
      "text/plain": [
       "True"
      ]
     },
     "execution_count": 3,
     "metadata": {},
     "output_type": "execute_result"
    }
   ],
   "source": [
    "1.4 == 1.4"
   ]
  },
  {
   "cell_type": "code",
   "execution_count": 5,
   "metadata": {},
   "outputs": [
    {
     "data": {
      "text/plain": [
       "-1.4"
      ]
     },
     "execution_count": 5,
     "metadata": {},
     "output_type": "execute_result"
    }
   ],
   "source": [
    "quotient = -7/5"
   ]
  },
  {
   "cell_type": "code",
   "execution_count": 7,
   "metadata": {},
   "outputs": [
    {
     "data": {
      "text/plain": [
       "-1.309999999999999"
      ]
     },
     "execution_count": 7,
     "metadata": {},
     "output_type": "execute_result"
    }
   ],
   "source": [
    "summation = -1.3 \n",
    "for i in range(10):\n",
    "    summation -= 0.001\n",
    "summation"
   ]
  },
  {
   "cell_type": "code",
   "execution_count": 4,
   "metadata": {},
   "outputs": [],
   "source": [
    "for i in arange(-10, 0, 0.01):\n",
    "    if i == -7/5:\n",
    "        print(i)"
   ]
  },
  {
   "cell_type": "code",
   "execution_count": 7,
   "metadata": {},
   "outputs": [
    {
     "name": "stdout",
     "output_type": "stream",
     "text": [
      "-1.40000000000017\n",
      "-1.39000000000017\n"
     ]
    }
   ],
   "source": [
    "epsilon = 0.01\n",
    "value = -7/5\n",
    "for i in arange(-10, 0, 0.01):\n",
    "    if abs(i - value) < epsilon:\n",
    "        print(i)"
   ]
  },
  {
   "cell_type": "code",
   "execution_count": 6,
   "metadata": {},
   "outputs": [
    {
     "data": {
      "text/plain": [
       "-1.4"
      ]
     },
     "execution_count": 6,
     "metadata": {},
     "output_type": "execute_result"
    }
   ],
   "source": [
    "value"
   ]
  },
  {
   "cell_type": "code",
   "execution_count": 9,
   "metadata": {},
   "outputs": [
    {
     "name": "stdout",
     "output_type": "stream",
     "text": [
      "-1.4\n"
     ]
    }
   ],
   "source": [
    "for i in arange(-10, 0, 0.01):\n",
    "    if round(i, 2) - round(value, 2) == 0:\n",
    "        print(round(i, 2))"
   ]
  },
  {
   "cell_type": "markdown",
   "metadata": {},
   "source": [
    "We still fail to find the 'zero' even with a far more granular search space.  The reason for this is because of the nature of floating point numbers, they are inherently inprecise.  In fact, our arange function does contain approximately the right answer, which happens to be -7/5 (or -1.4).  \n",
    "\n",
    "The right thing to do is allow for a little bit of error, since we'll never get a precise solution.  So now we'll add an `episolon` term to our `find_zero_eq_three()` which will allow us to get \"close enough\"."
   ]
  },
  {
   "cell_type": "code",
   "execution_count": 39,
   "metadata": {},
   "outputs": [
    {
     "name": "stdout",
     "output_type": "stream",
     "text": [
      "The 'zero' for equation three is -1.40000000000017\n"
     ]
    }
   ],
   "source": [
    "def arange(start, stop, step):\n",
    "    iterator = start\n",
    "    while iterator < stop:\n",
    "        yield iterator\n",
    "        iterator += step\n",
    "\n",
    "def equation_three(x):\n",
    "    return 5*x + 7\n",
    "\n",
    "def find_zero_eq_three(episolon):\n",
    "    for i in arange(-10, 10, 0.01):\n",
    "        if abs(equation_three(i)) < episolon:\n",
    "            return i\n",
    "        \n",
    "print(\"The 'zero' for equation three is\", find_zero_eq_three(0.01))"
   ]
  },
  {
   "cell_type": "markdown",
   "metadata": {},
   "source": [
    "Success!  We found the zero!  We are now in a position to move to the two variable case!"
   ]
  },
  {
   "cell_type": "code",
   "execution_count": 11,
   "metadata": {},
   "outputs": [
    {
     "name": "stdout",
     "output_type": "stream",
     "text": [
      "The 'zero' for equation four is (-9.400000000000002, 9.999999999999963)\n"
     ]
    }
   ],
   "source": [
    "def arange(start, stop, step):\n",
    "    iterator = start\n",
    "    while iterator < stop:\n",
    "        yield iterator\n",
    "        iterator += step\n",
    "\n",
    "        \n",
    "def equation_four(x, y):\n",
    "    return 5*x + 4*y + 7\n",
    "\n",
    "\n",
    "def find_zero_eq_four(episolon):\n",
    "    for i in arange(-10, 10, 0.1):\n",
    "        for j in arange(-10, 10, 0.1):\n",
    "            if abs(equation_four(i, j)) < episolon:\n",
    "                return (i, j)\n",
    "        \n",
    "print(\"The 'zero' for equation four is\", find_zero_eq_four(0.01))"
   ]
  },
  {
   "cell_type": "code",
   "execution_count": 12,
   "metadata": {},
   "outputs": [
    {
     "name": "stdout",
     "output_type": "stream",
     "text": [
      "The 'zero' for equation four plus is (-9.8, -9.500000000000002, 9.999999999999963)\n"
     ]
    }
   ],
   "source": [
    "def arange(start, stop, step):\n",
    "    iterator = start\n",
    "    while iterator < stop:\n",
    "        yield iterator\n",
    "        iterator += step\n",
    "\n",
    "        \n",
    "def equation_four_plus(x, y, z):\n",
    "    return 5*x + 4*y + 8*z + 7\n",
    "\n",
    "\n",
    "def find_zero_eq_four_plus(episolon):\n",
    "    for i in arange(-10, 10, 0.1):\n",
    "        for j in arange(-10, 10, 0.1):\n",
    "            for k in arange(-10, 10, 0.1):\n",
    "                if abs(equation_four_plus(i, j, k)) < episolon:\n",
    "                    return (i, j, k)\n",
    "        \n",
    "print(\"The 'zero' for equation four plus is\", find_zero_eq_four_plus(0.01))"
   ]
  },
  {
   "cell_type": "markdown",
   "metadata": {},
   "source": [
    "As you can see, there wasn't a ton of difference here.  The largest being that now we need 2 for loops, in order to find the zeros.  Let's see if we can generalize out to the case with n variables."
   ]
  },
  {
   "cell_type": "code",
   "execution_count": 8,
   "metadata": {},
   "outputs": [
    {
     "data": {
      "text/plain": [
       "6"
      ]
     },
     "execution_count": 8,
     "metadata": {},
     "output_type": "execute_result"
    }
   ],
   "source": [
    "sum([1,2,3])"
   ]
  },
  {
   "cell_type": "code",
   "execution_count": null,
   "metadata": {},
   "outputs": [
    {
     "name": "stdout",
     "output_type": "stream",
     "text": [
      "(-7.000000000000011,)\n",
      "(-10, 1.4999999999999816)\n"
     ]
    }
   ],
   "source": [
    "from functools import partial\n",
    "import itertools\n",
    "\n",
    "\n",
    "def arange(start, stop, step):\n",
    "    iterator = start\n",
    "    while iterator < stop:\n",
    "        yield iterator\n",
    "        iterator += step\n",
    "\n",
    "        \n",
    "def equation_five(coefficients, constant, variables):\n",
    "    return sum([coefficients[index]*variables[index] \n",
    "                for index in range(len(variables))]) + constant\n",
    "\n",
    "\n",
    "def find_zero_eq_five(coefficients, constant, episolon):\n",
    "    eq_five = partial(equation_five, coefficients, constant)\n",
    "    value_range = list(arange(-10, 10, 0.1))\n",
    "    values = list(itertools.permutations(value_range, len(coefficients)))\n",
    "    for value in values:        \n",
    "        if abs(eq_five(value)) < episolon:\n",
    "                return value\n",
    "\n",
    "print(find_zero_eq_five([1], 7, 0.1))\n",
    "print(find_zero_eq_five([1, 2], 7, 0.1))\n",
    "print(find_zero_eq_five([1, 2, 3], 7, 0.1))\n",
    "print(find_zero_eq_five([1, 2, 3, 4], 7, 0.1))"
   ]
  },
  {
   "cell_type": "markdown",
   "metadata": {},
   "source": [
    "In order to get this to run with any kind of speed I had to cheat a little and use something we haven't introduced yet.  So for completeness, I include an implementation of the function `itertools.permutations`"
   ]
  },
  {
   "cell_type": "code",
   "execution_count": 9,
   "metadata": {},
   "outputs": [
    {
     "data": {
      "text/plain": [
       "[[1, 2, 3], [2, 1, 3], [2, 3, 1], [1, 3, 2], [3, 1, 2], [3, 2, 1]]"
      ]
     },
     "execution_count": 9,
     "metadata": {},
     "output_type": "execute_result"
    }
   ],
   "source": [
    "def all_perms(elements):\n",
    "    if len(elements) <=1:\n",
    "        yield elements\n",
    "    else:\n",
    "        for perm in all_perms(elements[1:]):\n",
    "            for i in range(len(elements)):\n",
    "                # nb elements[0:1] works in both string and list contexts\n",
    "                yield perm[:i] + elements[0:1] + perm[i:]\n",
    "                \n",
    "list(all_perms([1, 2, 3]))"
   ]
  },
  {
   "cell_type": "markdown",
   "metadata": {},
   "source": [
    "Great!  So now we have a linear solver!  Unfortunately, it doesn't run very fast.  The running time of this search is `O(n^number of variables)`.  To get a better sense of what I mean by this, let's formally introduce Big-OH notation.  "
   ]
  },
  {
   "cell_type": "markdown",
   "metadata": {},
   "source": [
    "The running time of any piece of code can be defined by it's lower bound running time, it's upper bound running time, and it's average running time.  Because most computer scientists only care about how an algorithm does in it's worst case, we will only consider the worst case running time here.\n",
    "\n",
    "Informally, a running time is defined as the number of instructions required to execute the code. Let's look at an example:"
   ]
  },
  {
   "cell_type": "code",
   "execution_count": 3,
   "metadata": {},
   "outputs": [
    {
     "data": {
      "text/plain": [
       "101"
      ]
     },
     "execution_count": 3,
     "metadata": {},
     "output_type": "execute_result"
    }
   ],
   "source": [
    "def func(n):\n",
    "    return n + 1\n",
    "\n",
    "func(100)"
   ]
  },
  {
   "cell_type": "markdown",
   "metadata": {},
   "source": [
    "The running time of func is O(1) because it runs in one instruction."
   ]
  },
  {
   "cell_type": "code",
   "execution_count": 1,
   "metadata": {},
   "outputs": [
    {
     "data": {
      "text/plain": [
       "1000"
      ]
     },
     "execution_count": 1,
     "metadata": {},
     "output_type": "execute_result"
    }
   ],
   "source": [
    "def func(n):\n",
    "    x = 0\n",
    "    for i in range(n):\n",
    "        x += 1\n",
    "    return x\n",
    "\n",
    "func(1000)"
   ]
  },
  {
   "cell_type": "markdown",
   "metadata": {},
   "source": [
    "The running time of func is `O(n)` because it takes n instructions to run func.  Let's look at another example:"
   ]
  },
  {
   "cell_type": "code",
   "execution_count": 2,
   "metadata": {},
   "outputs": [
    {
     "data": {
      "text/plain": [
       "1000000"
      ]
     },
     "execution_count": 2,
     "metadata": {},
     "output_type": "execute_result"
    }
   ],
   "source": [
    "def func(n):\n",
    "    x = 0\n",
    "    for i in range(n):\n",
    "        for j in range(n):\n",
    "            x += 1\n",
    "    return x\n",
    "\n",
    "func(1000)"
   ]
  },
  {
   "cell_type": "markdown",
   "metadata": {},
   "source": [
    "The running time of func is O(n^2) because it takes n^2 instructions to run func.  The general rule of thumb is the number of inner loops determines the magnitude of the running time."
   ]
  },
  {
   "cell_type": "code",
   "execution_count": 1,
   "metadata": {},
   "outputs": [
    {
     "data": {
      "text/plain": [
       "8"
      ]
     },
     "execution_count": 1,
     "metadata": {},
     "output_type": "execute_result"
    }
   ],
   "source": [
    "def fib(n):\n",
    "    if n == 0:\n",
    "        return 1\n",
    "    if n == 1:\n",
    "        return 1\n",
    "    else:\n",
    "        return fib(n-1) + fib(n-2)\n",
    "\n",
    "fib(5)"
   ]
  },
  {
   "cell_type": "markdown",
   "metadata": {},
   "source": [
    "What is the running time for something like this?  To figure it out we'll have to look at how many operations are called as `n` - the size of the fibonacci number we care about.  In order to do this we augment `fib` to explicitly tell us how many computations it runs."
   ]
  },
  {
   "cell_type": "code",
   "execution_count": 4,
   "metadata": {},
   "outputs": [
    {
     "data": {
      "text/plain": [
       "(8, 15)"
      ]
     },
     "execution_count": 4,
     "metadata": {},
     "output_type": "execute_result"
    }
   ],
   "source": [
    "def fib(n, count):\n",
    "    if n == 0:\n",
    "        return 1, count+1\n",
    "    if n == 1:\n",
    "        return 1, count+1\n",
    "    else:\n",
    "        val_one, count = fib(n-1, count)\n",
    "        val_two, count = fib(n-2, count)\n",
    "        return val_one+val_two, count+1\n",
    "    \n",
    "fib(5, 0)"
   ]
  },
  {
   "cell_type": "markdown",
   "metadata": {},
   "source": [
    "As you can see here, to get the 5th fibonacci number requires 15 instructions.  Let's see how this scales as `n` increases."
   ]
  },
  {
   "cell_type": "code",
   "execution_count": 5,
   "metadata": {},
   "outputs": [],
   "source": [
    "fib_count = []\n",
    "for i in range(20):\n",
    "    fib_count.append(fib(i, 0))"
   ]
  },
  {
   "cell_type": "code",
   "execution_count": 12,
   "metadata": {},
   "outputs": [
    {
     "data": {
      "image/png": "[encoded data removed]",
      "text/plain": [
       "<matplotlib.figure.Figure at 0x7efe2b330f28>"
      ]
     },
     "metadata": {},
     "output_type": "display_data"
    }
   ],
   "source": [
    "x = list(range(len(fib_count)))\n",
    "y = [elem[1] for elem in fib_count]\n",
    "plt.plot(x, y)\n",
    "plt.xlabel(\"Nth fibonacci number\")\n",
    "plt.ylabel(\"Number of operations needed\")\n",
    "plt.show()"
   ]
  },
  {
   "cell_type": "markdown",
   "metadata": {},
   "source": [
    "As you can see as the size of n grows, the number of operations needed grows exponentially.  So how do we quantify this exactly?\n",
    "\n",
    "It turns out the answer is `O(2^n)`.  This is because for every call there are 2 operations.  While it might appear like this should only be `O(2*n)` because this happens _at every step_ the calls compound into an exponential running time.\n",
    "\n",
    "For a precise analysis of the running time check out this great explanation: https://www.geeksforgeeks.org/time-complexity-recursive-fibonacci-program/"
   ]
  },
  {
   "cell_type": "markdown",
   "metadata": {},
   "source": [
    "## Writing a faster solver\n",
    "\n",
    "Now that we have a sense for Big-OH running times and we know approximately what we mean by a linear running time solver, let's see if we can do better!\n",
    "\n",
    "In order to do better we'll try to write a solver that takes log-linear time to find the zero of our equation.  For this we'll be using something called a divide and conquer algorithm.  "
   ]
  },
  {
   "cell_type": "markdown",
   "metadata": {},
   "source": [
    "Before we can write our log-linear solver we'll need a quick digression into if/elif/else statements."
   ]
  },
  {
   "cell_type": "code",
   "execution_count": 28,
   "metadata": {},
   "outputs": [
    {
     "name": "stdout",
     "output_type": "stream",
     "text": [
      "we figured it out?\n"
     ]
    }
   ],
   "source": [
    "x = 17\n",
    "if x == 7:\n",
    "    print(\"hello\")\n",
    "elif x == 8:\n",
    "    print(\"yea okay\")\n",
    "elif x == 9:\n",
    "    print(\"right...\")\n",
    "elif x == 17:\n",
    "    print(\"we figured it out?\")\n",
    "else:\n",
    "    print(\"got it\")"
   ]
  },
  {
   "cell_type": "markdown",
   "metadata": {},
   "source": [
    "As you can see, we can have arbitrarily many `elif` statements between the `if` and the `else`.  We can think of these `elif` as \"else if\" statements.  So logically it flows as follows (from the above example):\n",
    "\n",
    "```\n",
    "if x equals 7 print hello\n",
    "else if x equals 8 print yea okay\n",
    "else if x equals 9 print right...\n",
    "else if x equals 17 print we figured it out?\n",
    "else print got it\n",
    "```\n",
    "\n",
    "The else if convention mentions that all the conditions will be checked sequentially.  So if the first `elif` statement happens to be true, the remaining conditions won't execute.  Therefore order of `elif` statements matters."
   ]
  },
  {
   "cell_type": "markdown",
   "metadata": {},
   "source": [
    "Now that we have that out of the way, let's talk about binary search!"
   ]
  },
  {
   "cell_type": "code",
   "execution_count": 1,
   "metadata": {},
   "outputs": [
    {
     "name": "stdout",
     "output_type": "stream",
     "text": [
      "The 'zero' for equation six is 0\n"
     ]
    }
   ],
   "source": [
    "def equation_six(x):\n",
    "    return x\n",
    "\n",
    "def find_zero_eq_six(val):\n",
    "    if equation_six(val) > 0:\n",
    "        val -= 1\n",
    "        return find_zero_eq_six(val)\n",
    "    elif equation_six(val) < 0:\n",
    "        val += 1\n",
    "        return find_zero_eq_six(val)\n",
    "    else:\n",
    "        return val\n",
    "    \n",
    "print(\"The 'zero' for equation six is\", find_zero_eq_six(10))"
   ]
  },
  {
   "cell_type": "code",
   "execution_count": 5,
   "metadata": {},
   "outputs": [
    {
     "name": "stdout",
     "output_type": "stream",
     "text": [
      "The 'zero' for equation six is 0\n"
     ]
    }
   ],
   "source": [
    "from functools import partial\n",
    "\n",
    "def equation_six(x):\n",
    "    return x\n",
    "\n",
    "def find_zero_eq_six(val, func):\n",
    "    if func(val) > 0:\n",
    "        val -= 1\n",
    "        return find_zero_eq_six(val, func)\n",
    "    elif func(val) < 0:\n",
    "        val += 1\n",
    "        return find_zero_eq_six(val, func)\n",
    "    else:\n",
    "        return val\n",
    "    \n",
    "print(\"The 'zero' for equation six is\", find_zero_eq_six(10, partial(lambda x, y: y, 5)))"
   ]
  },
  {
   "cell_type": "code",
   "execution_count": null,
   "metadata": {},
   "outputs": [],
   "source": []
  },
  {
   "cell_type": "markdown",
   "metadata": {},
   "source": [
    "This simple looking equation is what's called binary search a specific way of solving \"hard\" problems with recursion.  This is the one place where it doesn't matter much to transform from the recursive to the iterative case, because the fundamental algorithm computes things \"fast enough\".  This is because the algorithm we describe here has a running time of `O(log n)`, one of the fastest possible running times of any algorithm.\n",
    "\n",
    "Now that we have something fast, let's see how it does when we start dealing with more sophisticated equations."
   ]
  },
  {
   "cell_type": "code",
   "execution_count": 2,
   "metadata": {},
   "outputs": [
    {
     "data": {
      "text/plain": [
       "-1.3999999999999815"
      ]
     },
     "execution_count": 2,
     "metadata": {},
     "output_type": "execute_result"
    }
   ],
   "source": [
    "from functools import partial\n",
    "\n",
    "\n",
    "def equation_seven(x):\n",
    "    return 5*x + 7\n",
    "\n",
    "\n",
    "def binary_search_solver(eq, val, epsilon=0.001, step_size=0.1):\n",
    "    if abs(eq(val)) < epsilon:\n",
    "        return val\n",
    "    elif eq(val) > 0:\n",
    "        val -= step_size\n",
    "        return binary_search_solver(eq, val)\n",
    "    elif eq(val) < 0:\n",
    "        val += step_size\n",
    "        return binary_search_solver(eq, val)\n",
    "    else:\n",
    "        return val\n",
    "    \n",
    "\n",
    "solver = partial(binary_search_solver, equation_seven)\n",
    "solver(10)"
   ]
  },
  {
   "cell_type": "markdown",
   "metadata": {},
   "source": [
    "As a general claim, the above solver will work on an polynomial func of one variable, regardless of how complex.  One of the really important things in this solver is initialization - yes we need to give our equation a start value, but we don't have to provide a range!  This is a huge improvement of having to search the entire space of values and hoping we get lucky.  \n",
    "\n",
    "Now our solver is smart enough to figure out what direction to go!  All with some simple if/elif/else statements.\n",
    "\n",
    "Let's see if we can generalize out our solver to the two variable case."
   ]
  },
  {
   "cell_type": "code",
   "execution_count": 48,
   "metadata": {},
   "outputs": [
    {
     "data": {
      "text/plain": [
       "[(-10, 6.559999999999905),\n",
       " (-9.9, 6.489999999999906),\n",
       " (-9.8, 6.419999999999908),\n",
       " (-9.700000000000001, 6.349999999999909),\n",
       " (-9.600000000000001, 6.2799999999999105),\n",
       " (-9.500000000000002, 6.209999999999912),\n",
       " (-9.400000000000002, 6.129999999999914),\n",
       " (-9.300000000000002, 6.059999999999915),\n",
       " (-9.200000000000003, 5.989999999999917),\n",
       " (-9.100000000000003, 5.919999999999918),\n",
       " (-9.000000000000004, 5.84999999999992),\n",
       " (-8.900000000000004, 5.779999999999921),\n",
       " (-8.800000000000004, 5.709999999999923),\n",
       " (-8.700000000000005, 5.629999999999924),\n",
       " (-8.600000000000005, 5.559999999999926),\n",
       " (-8.500000000000005, 5.489999999999927),\n",
       " (-8.400000000000006, 5.419999999999929),\n",
       " (-8.300000000000006, 5.34999999999993),\n",
       " (-8.200000000000006, 5.279999999999932),\n",
       " (-8.100000000000007, 5.209999999999933),\n",
       " (-8.000000000000007, 5.129999999999935),\n",
       " (-7.9000000000000075, 5.0599999999999365),\n",
       " (-7.800000000000008, 4.989999999999938),\n",
       " (-7.700000000000008, 4.9199999999999395),\n",
       " (-7.6000000000000085, 4.849999999999941),\n",
       " (-7.500000000000009, 4.7799999999999425),\n",
       " (-7.400000000000009, 4.709999999999944),\n",
       " (-7.30000000000001, 4.629999999999946),\n",
       " (-7.20000000000001, 4.559999999999947),\n",
       " (-7.10000000000001, 4.489999999999949),\n",
       " (-7.000000000000011, 4.41999999999995),\n",
       " (-6.900000000000011, 4.349999999999952),\n",
       " (-6.800000000000011, 4.279999999999953),\n",
       " (-6.700000000000012, 4.209999999999955),\n",
       " (-6.600000000000012, 4.129999999999956),\n",
       " (-6.500000000000012, 4.059999999999958),\n",
       " (-6.400000000000013, 3.989999999999959),\n",
       " (-6.300000000000013, 3.9199999999999604),\n",
       " (-6.2000000000000135, 3.849999999999962),\n",
       " (-6.100000000000014, 3.7799999999999634),\n",
       " (-6.000000000000014, 3.709999999999965),\n",
       " (-5.900000000000015, 3.6299999999999666),\n",
       " (-5.800000000000015, 3.559999999999968),\n",
       " (-5.700000000000015, 3.4899999999999696),\n",
       " (-5.600000000000016, 3.419999999999971),\n",
       " (-5.500000000000016, 3.3499999999999726),\n",
       " (-5.400000000000016, 3.279999999999974),\n",
       " (-5.300000000000017, 3.2099999999999755),\n",
       " (-5.200000000000017, 3.1299999999999772),\n",
       " (-5.100000000000017, 3.0599999999999787),\n",
       " (-5.000000000000018, 2.9899999999999802),\n",
       " (-4.900000000000018, 2.9199999999999817),\n",
       " (-4.8000000000000185, 2.849999999999983),\n",
       " (-4.700000000000019, 2.7799999999999847),\n",
       " (-4.600000000000019, 2.709999999999986),\n",
       " (-4.5000000000000195, 2.629999999999988),\n",
       " (-4.40000000000002, 2.5599999999999894),\n",
       " (-4.30000000000002, 2.489999999999991),\n",
       " (-4.200000000000021, 2.4199999999999924),\n",
       " (-4.100000000000021, 2.349999999999994),\n",
       " (-4.000000000000021, 2.2799999999999954),\n",
       " (-3.9000000000000212, 2.209999999999997),\n",
       " (-3.800000000000021, 2.1299999999999986),\n",
       " (-3.700000000000021, 2.06),\n",
       " (-3.600000000000021, 1.9900000000000015),\n",
       " (-3.500000000000021, 1.9200000000000015),\n",
       " (-3.400000000000021, 1.8500000000000014),\n",
       " (-3.3000000000000207, 1.7800000000000014),\n",
       " (-3.2000000000000206, 1.7100000000000013),\n",
       " (-3.1000000000000205, 1.6300000000000012),\n",
       " (-3.0000000000000204, 1.5600000000000012),\n",
       " (-2.9000000000000203, 1.490000000000001),\n",
       " (-2.8000000000000203, 1.420000000000001),\n",
       " (-2.70000000000002, 1.350000000000001),\n",
       " (-2.60000000000002, 1.280000000000001),\n",
       " (-2.50000000000002, 1.2100000000000009),\n",
       " (-2.40000000000002, 1.1300000000000008),\n",
       " (-2.30000000000002, 1.0600000000000007),\n",
       " (-2.2000000000000197, 0.9900000000000007),\n",
       " (-2.1000000000000196, 0.9200000000000006),\n",
       " (-2.0000000000000195, 0.8500000000000005),\n",
       " (-1.9000000000000195, 0.7800000000000005),\n",
       " (-1.8000000000000194, 0.7100000000000004),\n",
       " (-1.7000000000000193, 0.6300000000000003),\n",
       " (-1.6000000000000192, 0.5600000000000003),\n",
       " (-1.500000000000019, 0.49000000000000027),\n",
       " (-1.400000000000019, 0.4200000000000002),\n",
       " (-1.300000000000019, 0.35000000000000014),\n",
       " (-1.2000000000000188, 0.2800000000000001),\n",
       " (-1.1000000000000187, 0.21000000000000005),\n",
       " (-1.0000000000000187, 0.12999999999999998),\n",
       " (-0.9000000000000187, 0.060000000000000005),\n",
       " (-0.8000000000000187, 0),\n",
       " (-0.7000000000000187, -0.060000000000000005),\n",
       " (-0.6000000000000187, -0.12999999999999998),\n",
       " (-0.5000000000000188, -0.20000000000000004),\n",
       " (-0.4000000000000188, -0.2800000000000001),\n",
       " (-0.3000000000000188, -0.35000000000000014),\n",
       " (-0.2000000000000188, -0.4200000000000002),\n",
       " (-0.1000000000000188, -0.49000000000000027),\n",
       " (-1.8790524691780774e-14, -0.5600000000000003),\n",
       " (0.09999999999998122, -0.6300000000000003),\n",
       " (0.19999999999998122, -0.7000000000000004),\n",
       " (0.2999999999999812, -0.7800000000000005),\n",
       " (0.39999999999998126, -0.8500000000000005),\n",
       " (0.49999999999998124, -0.9200000000000006),\n",
       " (0.5999999999999812, -0.9900000000000007),\n",
       " (0.6999999999999812, -1.0600000000000007),\n",
       " (0.7999999999999812, -1.1300000000000008),\n",
       " (0.8999999999999811, -1.2000000000000008),\n",
       " (0.9999999999999811, -1.280000000000001),\n",
       " (1.0999999999999812, -1.350000000000001),\n",
       " (1.1999999999999813, -1.420000000000001),\n",
       " (1.2999999999999814, -1.490000000000001),\n",
       " (1.3999999999999815, -1.5600000000000012),\n",
       " (1.4999999999999816, -1.6300000000000012),\n",
       " (1.5999999999999817, -1.7000000000000013),\n",
       " (1.6999999999999817, -1.7800000000000014),\n",
       " (1.7999999999999818, -1.8500000000000014),\n",
       " (1.899999999999982, -1.9200000000000015),\n",
       " (1.999999999999982, -1.9900000000000015),\n",
       " (2.099999999999982, -2.06),\n",
       " (2.199999999999982, -2.1299999999999986),\n",
       " (2.299999999999982, -2.199999999999997),\n",
       " (2.399999999999982, -2.2799999999999954),\n",
       " (2.4999999999999822, -2.349999999999994),\n",
       " (2.5999999999999823, -2.4199999999999924),\n",
       " (2.6999999999999824, -2.489999999999991),\n",
       " (2.7999999999999825, -2.5599999999999894),\n",
       " (2.8999999999999826, -2.629999999999988),\n",
       " (2.9999999999999827, -2.709999999999986),\n",
       " (3.0999999999999828, -2.7799999999999847),\n",
       " (3.199999999999983, -2.849999999999983),\n",
       " (3.299999999999983, -2.9199999999999817),\n",
       " (3.399999999999983, -2.9899999999999802),\n",
       " (3.499999999999983, -3.0599999999999787),\n",
       " (3.599999999999983, -3.1299999999999772),\n",
       " (3.6999999999999833, -3.2099999999999755),\n",
       " (3.7999999999999834, -3.279999999999974),\n",
       " (3.8999999999999835, -3.3499999999999726),\n",
       " (3.9999999999999836, -3.419999999999971),\n",
       " (4.099999999999984, -3.4899999999999696),\n",
       " (4.199999999999983, -3.559999999999968),\n",
       " (4.299999999999983, -3.6299999999999666),\n",
       " (4.399999999999983, -3.709999999999965),\n",
       " (4.499999999999982, -3.7799999999999634),\n",
       " (4.599999999999982, -3.849999999999962),\n",
       " (4.6999999999999815, -3.9199999999999604),\n",
       " (4.799999999999981, -3.989999999999959),\n",
       " (4.899999999999981, -4.059999999999958),\n",
       " (4.9999999999999805, -4.129999999999956),\n",
       " (5.09999999999998, -4.209999999999955),\n",
       " (5.19999999999998, -4.279999999999953),\n",
       " (5.299999999999979, -4.349999999999952),\n",
       " (5.399999999999979, -4.41999999999995),\n",
       " (5.499999999999979, -4.489999999999949),\n",
       " (5.599999999999978, -4.559999999999947),\n",
       " (5.699999999999978, -4.629999999999946),\n",
       " (5.799999999999978, -4.709999999999944),\n",
       " (5.899999999999977, -4.7799999999999425),\n",
       " (5.999999999999977, -4.849999999999941),\n",
       " (6.0999999999999766, -4.9199999999999395),\n",
       " (6.199999999999976, -4.989999999999938),\n",
       " (6.299999999999976, -5.0599999999999365),\n",
       " (6.3999999999999755, -5.129999999999935),\n",
       " (6.499999999999975, -5.209999999999933),\n",
       " (6.599999999999975, -5.279999999999932),\n",
       " (6.699999999999974, -5.34999999999993),\n",
       " (6.799999999999974, -5.419999999999929),\n",
       " (6.899999999999974, -5.489999999999927),\n",
       " (6.999999999999973, -5.559999999999926),\n",
       " (7.099999999999973, -5.629999999999924),\n",
       " (7.199999999999973, -5.709999999999923),\n",
       " (7.299999999999972, -5.779999999999921),\n",
       " (7.399999999999972, -5.84999999999992),\n",
       " (7.499999999999972, -5.919999999999918),\n",
       " (7.599999999999971, -5.989999999999917),\n",
       " (7.699999999999971, -6.059999999999915),\n",
       " (7.7999999999999705, -6.129999999999914),\n",
       " (7.89999999999997, -6.209999999999912),\n",
       " (7.99999999999997, -6.2799999999999105),\n",
       " (8.09999999999997, -6.349999999999909),\n",
       " (8.199999999999969, -6.419999999999908),\n",
       " (8.299999999999969, -6.489999999999906),\n",
       " (8.399999999999968, -6.559999999999905),\n",
       " (8.499999999999968, -6.629999999999903),\n",
       " (8.599999999999968, -6.709999999999901),\n",
       " (8.699999999999967, -6.7799999999999),\n",
       " (8.799999999999967, -6.849999999999898),\n",
       " (8.899999999999967, -6.919999999999897),\n",
       " (8.999999999999966, -6.989999999999895),\n",
       " (9.099999999999966, -7.059999999999894),\n",
       " (9.199999999999966, -7.129999999999892),\n",
       " (9.299999999999965, -7.209999999999891),\n",
       " (9.399999999999965, -7.279999999999889),\n",
       " (9.499999999999964, -7.349999999999888),\n",
       " (9.599999999999964, -7.419999999999886),\n",
       " (9.699999999999964, -7.489999999999885),\n",
       " (9.799999999999963, -7.559999999999883),\n",
       " (9.899999999999963, -7.629999999999882),\n",
       " (9.999999999999963, -7.70999999999988)]"
      ]
     },
     "execution_count": 48,
     "metadata": {},
     "output_type": "execute_result"
    }
   ],
   "source": [
    "from functools import partial\n",
    "from random import randint\n",
    "\n",
    "\n",
    "def equation_eight(x, y):\n",
    "    return 5*x + 7*y + 4\n",
    "\n",
    "\n",
    "def arange(start, stop, step):\n",
    "    iterator = start\n",
    "    while iterator < stop:\n",
    "        yield iterator\n",
    "        iterator += step\n",
    "\n",
    "        \n",
    "def solver(eq, val, epsilon=0.1, step_size=0.01):\n",
    "    if abs(eq(val)) < epsilon:\n",
    "        return val\n",
    "    elif eq(val) > 0:\n",
    "        val -= step_size\n",
    "        return solver(eq, val)\n",
    "    elif eq(val) < 0:\n",
    "        val += step_size\n",
    "        return solver(eq, val)\n",
    "    else:\n",
    "        return val\n",
    "\n",
    "    \n",
    "def two_variable_solver():\n",
    "    solutions = []\n",
    "    for i in arange(-10, 10, 0.1):\n",
    "        eq = partial(equation_eight, i)\n",
    "        solutions.append((i, solver(eq, 0)))\n",
    "    return solutions\n",
    "    \n",
    "        \n",
    "two_variable_solver()"
   ]
  },
  {
   "cell_type": "markdown",
   "metadata": {},
   "source": [
    "Because our binary search solver is so fast, we can actually find _all the zeros_ of equation between -10 and 10.  Previously we just found the first one.  \n",
    "\n",
    "The reason there are multiple zeros is because for each choice of the variable x, there is a different y that will \"zero\" out the equation.  It turns out that this zero \"plane\" of the function is in fact infinitely big!\n",
    "\n",
    "The above solver certainly \"works\" but it's still got some iteration.  Let's see if we can get rid of that.\n"
   ]
  },
  {
   "cell_type": "code",
   "execution_count": 49,
   "metadata": {},
   "outputs": [
    {
     "data": {
      "text/plain": [
       "(-0.08541874670272764, -0.5205367749532717)"
      ]
     },
     "execution_count": 49,
     "metadata": {},
     "output_type": "execute_result"
    }
   ],
   "source": [
    "from functools import partial\n",
    "from random import random\n",
    "\n",
    "\n",
    "def equation_nine(x, y):\n",
    "    return 5*x + 7*y + 4\n",
    "\n",
    "        \n",
    "def solver(eq, val_one, val_two, epsilon=0.1):\n",
    "    if abs(eq(val_one, val_two)) < epsilon:\n",
    "        return val_one, val_two\n",
    "    elif eq(val_one, val_two) > 0:\n",
    "        val_one -= random()\n",
    "        val_two -= random()\n",
    "        return solver(eq, val_one, val_two)\n",
    "    elif eq(val_one, val_two) < 0:\n",
    "        val_one += random()\n",
    "        val_two += random()\n",
    "        return solver(eq, val_one, val_two)\n",
    "    else:\n",
    "        return val_one, val_two    \n",
    "        \n",
    "solver(equation_nine, 0, 0)"
   ]
  },
  {
   "cell_type": "code",
   "execution_count": 13,
   "metadata": {},
   "outputs": [
    {
     "data": {
      "text/plain": [
       "0.1085661397290012"
      ]
     },
     "execution_count": 13,
     "metadata": {},
     "output_type": "execute_result"
    }
   ],
   "source": [
    "from random import random\n",
    "\n",
    "random()"
   ]
  },
  {
   "cell_type": "markdown",
   "metadata": {},
   "source": [
    "It may appear as though this solver isn't as strong, because it doesn't get us all the values.  But!  We can just iterate and recover as many zeros as we like.  Additionally, because we binary search over all values, this is blazingly fast.  \n",
    "\n",
    "Some other things to consider - this means generalizing is _easy_.  Let's do that for completeness."
   ]
  },
  {
   "cell_type": "code",
   "execution_count": 18,
   "metadata": {},
   "outputs": [
    {
     "name": "stdout",
     "output_type": "stream",
     "text": [
      "[[-1.746439251136926, 3.6461844225369084, -5.039274448627325, -5.272960145020748, -1.2483224246905444, 4.972900491751486], [-1.0603466992362178, -2.8160944441976303, 0.22878359910322732, -0.17370119731341094, 0.16778759188437298, -0.18326066907389094], [-3.5653199222182073, -4.709396060919291, 1.321765827384867, 3.7036662574251897, -0.006510314360145153, -2.120724091792442], [-1.669122966434602, -3.4631840020097195, 6.856611950414922, 1.9843652357300714, -1.8429838027652505, -2.9476205115171417], [1.5489742116929057, -0.9019211320283123, 4.6746885617130385, 1.4970686712404406, -2.3629550520518428, -2.4929113176998654], [-2.307194558307179, 0.6966673507513614, 0.8728918591589837, 1.016750417106464, -0.3634573731036945, -1.812398501342844], [-2.3891963530106652, -1.654620314989021, 3.0875639040332508, -2.069807116319476, 3.700202254433464, -3.462163544169754], [0.9889994048658489, 1.2286384914811106, -2.1376861922177333, -2.2054738576023967, -0.3468279835009822, 1.1013083055398458], [-0.25441324389045505, 1.3985179897293563, 2.565680166914809, -2.9943537684830406, -1.6339701683931285, 0.48318394573193924], [4.213813106190117, 4.619530382031673, 13.473947765272177, -5.077344216418171, -4.86378517821823, -2.7020115815221053]]\n"
     ]
    }
   ],
   "source": [
    "from random import random\n",
    "from functools import partial\n",
    "\n",
    "\n",
    "def equation_ten(coefficients, constant, variables):\n",
    "    return sum([coefficients[index]*variables[index] \n",
    "                for index in range(len(variables))]) + constant\n",
    "\n",
    "\n",
    "def gen_solver(eq, values, epsilon=0.1):\n",
    "    if abs(eq(values)) < epsilon:\n",
    "        return values\n",
    "    elif eq(values) > 0:\n",
    "        values = [elem - random() \n",
    "                  for elem in values]\n",
    "        return gen_solver(eq, values)\n",
    "    elif eq(values) < 0:\n",
    "        values = [elem + random()\n",
    "               for elem in values]\n",
    "        return gen_solver(eq, values)\n",
    "    else:\n",
    "        return values   \n",
    "\n",
    "    \n",
    "def setup_solver(coefficients, constant, epsilon):\n",
    "    eq = partial(equation_ten, coefficients, constant)\n",
    "    values = [0 for _ in range(len(coefficients))]\n",
    "    return gen_solver(eq, values, epsilon=epsilon)\n",
    "    \n",
    "zeros = []\n",
    "for _ in range(10):        \n",
    "    zeros.append(setup_solver([1,2,3,4,5, 6], 7, 0.1))\n",
    "print(zeros)"
   ]
  },
  {
   "cell_type": "markdown",
   "metadata": {},
   "source": [
    "Now we have a general fully recursive and blazing fast general polynomial solver of \"n\" variables!  And we did it 23 lines of code.  _This_ is the power of Python.  Fast and elegant solutions that generalize."
   ]
  },
  {
   "cell_type": "code",
   "execution_count": 12,
   "metadata": {},
   "outputs": [],
   "source": []
  },
  {
   "cell_type": "code",
   "execution_count": null,
   "metadata": {},
   "outputs": [],
   "source": []
  }
 ],
 "metadata": {
  "kernelspec": {
   "display_name": "Python 3",
   "language": "python",
   "name": "python3"
  },
  "language_info": {
   "codemirror_mode": {
    "name": "ipython",
    "version": 3
   },
   "file_extension": ".py",
   "mimetype": "text/x-python",
   "name": "python",
   "nbconvert_exporter": "python",
   "pygments_lexer": "ipython3",
   "version": "3.6.3"
  }
 },
 "nbformat": 4,
 "nbformat_minor": 2
}
